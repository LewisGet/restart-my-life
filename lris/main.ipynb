{
 "cells": [
  {
   "cell_type": "code",
   "execution_count": 1,
   "metadata": {},
   "outputs": [
    {
     "name": "stderr",
     "output_type": "stream",
     "text": [
      "/usr/lib/python3.4/importlib/_bootstrap.py:321: FutureWarning: Conversion of the second argument of issubdtype from `float` to `np.floating` is deprecated. In future, it will be treated as `np.float64 == np.dtype(float).type`.\n",
      "  return f(*args, **kwds)\n"
     ]
    },
    {
     "name": "stdout",
     "output_type": "stream",
     "text": [
      "WARNING:tensorflow:From /usr/local/lib/python3.4/dist-packages/tensorflow/contrib/learn/python/learn/datasets/base.py:198: retry (from tensorflow.contrib.learn.python.learn.datasets.base) is deprecated and will be removed in a future version.\n",
      "Instructions for updating:\n",
      "Use the retry module or similar alternatives.\n"
     ]
    }
   ],
   "source": [
    "import tensorflow as tf\n",
    "import numpy as np\n",
    "import os\n",
    "\n",
    "import tensorflow.contrib.eager as tfe\n",
    "\n",
    "tf.enable_eager_execution()"
   ]
  },
  {
   "cell_type": "code",
   "execution_count": 2,
   "metadata": {},
   "outputs": [
    {
     "name": "stdout",
     "output_type": "stream",
     "text": [
      "Local copy of the dataset file: /tmp/.keras/datasets/iris_training.csv\n"
     ]
    }
   ],
   "source": [
    "#資料庫\n",
    "\n",
    "train_dataset_url = \"http://download.tensorflow.org/data/iris_training.csv\"\n",
    "\n",
    "train_dataset_fp = tf.keras.utils.get_file(fname=os.path.basename(train_dataset_url),\n",
    "                                           origin=train_dataset_url)\n",
    "\n",
    "print(\"Local copy of the dataset file: {}\".format(train_dataset_fp))"
   ]
  },
  {
   "cell_type": "code",
   "execution_count": 3,
   "metadata": {},
   "outputs": [
    {
     "data": {
      "text/plain": [
       "'iris_training.csv'"
      ]
     },
     "execution_count": 3,
     "metadata": {},
     "output_type": "execute_result"
    }
   ],
   "source": [
    "os.path.basename(train_dataset_url)"
   ]
  },
  {
   "cell_type": "code",
   "execution_count": 4,
   "metadata": {},
   "outputs": [
    {
     "data": {
      "text/plain": [
       "'http://download.tensorflow.org/data/iris_training.csv'"
      ]
     },
     "execution_count": 4,
     "metadata": {},
     "output_type": "execute_result"
    }
   ],
   "source": [
    "train_dataset_url"
   ]
  },
  {
   "cell_type": "code",
   "execution_count": 5,
   "metadata": {},
   "outputs": [
    {
     "data": {
      "text/plain": [
       "'/tmp/.keras/datasets/iris_training.csv'"
      ]
     },
     "execution_count": 5,
     "metadata": {},
     "output_type": "execute_result"
    }
   ],
   "source": [
    "train_dataset_fp"
   ]
  },
  {
   "cell_type": "code",
   "execution_count": 6,
   "metadata": {},
   "outputs": [
    {
     "name": "stdout",
     "output_type": "stream",
     "text": [
      "120,4,setosa,versicolor,virginica\r\n",
      "6.4,2.8,5.6,2.2,2\r\n",
      "5.0,2.3,3.3,1.0,1\r\n",
      "4.9,2.5,4.5,1.7,2\r\n",
      "4.9,3.1,1.5,0.1,0\r\n",
      "5.7,3.8,1.7,0.3,0\r\n",
      "4.4,3.2,1.3,0.2,0\r\n",
      "5.4,3.4,1.5,0.4,0\r\n",
      "6.9,3.1,5.1,2.3,2\r\n",
      "6.7,3.1,4.4,1.4,1\r\n"
     ]
    }
   ],
   "source": [
    "# 驚嘆號在開頭 python 調用系統的指令\n",
    "\n",
    "!head -n10 {train_dataset_fp}"
   ]
  },
  {
   "cell_type": "code",
   "execution_count": 7,
   "metadata": {},
   "outputs": [
    {
     "name": "stdout",
     "output_type": "stream",
     "text": [
      "lewis    tty1         2018-04-05 15:27\r\n",
      "lewis    pts/1        2018-04-05 15:28 (192.168.0.101)\r\n"
     ]
    }
   ],
   "source": [
    "# 調系統統\n",
    "\n",
    "!who"
   ]
  },
  {
   "cell_type": "code",
   "execution_count": 8,
   "metadata": {
    "collapsed": true
   },
   "outputs": [],
   "source": [
    "def parse_csv(line):\n",
    "    example_defaults = [[0.], [0.], [0.], [0.], [0]]\n",
    "    parsed_line = tf.decode_csv(line, example_defaults)\n",
    "    features = tf.reshape(parsed_line[:-1], shape=(4,))\n",
    "    label = tf.reshape(parsed_line[-1], shape=())\n",
    "    \n",
    "    return features, label"
   ]
  },
  {
   "cell_type": "code",
   "execution_count": 9,
   "metadata": {},
   "outputs": [],
   "source": [
    "train_dataset = tf.data.TextLineDataset(train_dataset_fp)\n",
    "train_dataset = train_dataset.skip(1)             # skip the first header row\n",
    "train_dataset = train_dataset.map(parse_csv)      # parse each row\n",
    "train_dataset = train_dataset.shuffle(buffer_size=1000)  # randomize\n",
    "train_dataset = train_dataset.batch(32)"
   ]
  },
  {
   "cell_type": "code",
   "execution_count": 10,
   "metadata": {},
   "outputs": [
    {
     "data": {
      "text/plain": [
       "<BatchDataset shapes: ((?, 4), (?,)), types: (tf.float32, tf.int32)>"
      ]
     },
     "execution_count": 10,
     "metadata": {},
     "output_type": "execute_result"
    }
   ],
   "source": [
    "train_dataset"
   ]
  },
  {
   "cell_type": "code",
   "execution_count": null,
   "metadata": {},
   "outputs": [],
   "source": []
  },
  {
   "cell_type": "code",
   "execution_count": 11,
   "metadata": {
    "collapsed": true
   },
   "outputs": [],
   "source": [
    "model = tf.keras.Sequential([\n",
    "    tf.keras.layers.Dense(10, activation=\"relu\", input_shape=(4,)),  # input shape required\n",
    "    tf.keras.layers.Dense(10, activation=\"relu\"),\n",
    "    tf.keras.layers.Dense(3)\n",
    "])"
   ]
  },
  {
   "cell_type": "code",
   "execution_count": 12,
   "metadata": {},
   "outputs": [],
   "source": [
    "def loss(model, x, y):\n",
    "    y_ = model(x)\n",
    "    \n",
    "    return tf.losses.sparse_softmax_cross_entropy(labels=y, logits=y_)"
   ]
  },
  {
   "cell_type": "code",
   "execution_count": 13,
   "metadata": {},
   "outputs": [],
   "source": [
    "def grad(model, inputs, targets):\n",
    "    with tfe.GradientTape() as tape:\n",
    "        loss_value = loss(model, inputs, targets)\n",
    "    \n",
    "    return tape.gradient(loss_value, model.variables)"
   ]
  },
  {
   "cell_type": "code",
   "execution_count": 14,
   "metadata": {
    "collapsed": true
   },
   "outputs": [],
   "source": [
    "optimizer = tf.train.GradientDescentOptimizer(learning_rate=0.01)"
   ]
  },
  {
   "cell_type": "code",
   "execution_count": 15,
   "metadata": {
    "collapsed": true
   },
   "outputs": [],
   "source": [
    "train_loss_results = []\n",
    "train_accuracy_results = []"
   ]
  },
  {
   "cell_type": "code",
   "execution_count": 16,
   "metadata": {
    "collapsed": true
   },
   "outputs": [],
   "source": [
    "num_epochs = 201"
   ]
  },
  {
   "cell_type": "code",
   "execution_count": 17,
   "metadata": {},
   "outputs": [
    {
     "name": "stdout",
     "output_type": "stream",
     "text": [
      "Epoch 000: Loss: 1.337, Accuracy: 30.000%\n",
      "Epoch 050: Loss: 0.514, Accuracy: 80.833%\n",
      "Epoch 100: Loss: 0.340, Accuracy: 93.333%\n",
      "Epoch 150: Loss: 0.249, Accuracy: 95.833%\n",
      "Epoch 200: Loss: 0.176, Accuracy: 96.667%\n"
     ]
    }
   ],
   "source": [
    "for epoch in range(num_epochs):\n",
    "    epoch_loss_avg = tfe.metrics.Mean()\n",
    "    epoch_accuracy = tfe.metrics.Accuracy()\n",
    "    \n",
    "    for x, y in tfe.Iterator(train_dataset):\n",
    "        grads = grad(model, x, y)\n",
    "        optimizer.apply_gradients(zip(grads, model.variables), global_step=tf.train.get_or_create_global_step())\n",
    "        \n",
    "        epoch_loss_avg(loss(model, x, y))  # add current batch loss\n",
    "        epoch_accuracy(tf.argmax(model(x), axis=1, output_type=tf.int32), y)\n",
    "        \n",
    "    train_loss_results.append(epoch_loss_avg.result())\n",
    "    train_accuracy_results.append(epoch_accuracy.result())\n",
    "    \n",
    "    if epoch % 50 == 0:\n",
    "        print(\"Epoch {:03d}: Loss: {:.3f}, Accuracy: {:.3%}\".format(epoch, epoch_loss_avg.result(), epoch_accuracy.result()))"
   ]
  },
  {
   "cell_type": "code",
   "execution_count": 18,
   "metadata": {},
   "outputs": [
    {
     "data": {
      "text/plain": [
       "[<tf.Tensor: id=781, shape=(), dtype=float64, numpy=1.3367856442928314>,\n",
       " <tf.Tensor: id=1453, shape=(), dtype=float64, numpy=1.2112858593463898>,\n",
       " <tf.Tensor: id=2117, shape=(), dtype=float64, numpy=1.1024219989776611>,\n",
       " <tf.Tensor: id=2781, shape=(), dtype=float64, numpy=1.0331390351057053>,\n",
       " <tf.Tensor: id=3445, shape=(), dtype=float64, numpy=0.999743789434433>,\n",
       " <tf.Tensor: id=4109, shape=(), dtype=float64, numpy=0.9730575233697891>,\n",
       " <tf.Tensor: id=4773, shape=(), dtype=float64, numpy=0.9604362696409225>,\n",
       " <tf.Tensor: id=5437, shape=(), dtype=float64, numpy=0.943862795829773>,\n",
       " <tf.Tensor: id=6101, shape=(), dtype=float64, numpy=0.9260620027780533>,\n",
       " <tf.Tensor: id=6765, shape=(), dtype=float64, numpy=0.9165887236595154>,\n",
       " <tf.Tensor: id=7429, shape=(), dtype=float64, numpy=0.9039689153432846>,\n",
       " <tf.Tensor: id=8093, shape=(), dtype=float64, numpy=0.8904195874929428>,\n",
       " <tf.Tensor: id=8757, shape=(), dtype=float64, numpy=0.8798197656869888>,\n",
       " <tf.Tensor: id=9421, shape=(), dtype=float64, numpy=0.8705746531486511>,\n",
       " <tf.Tensor: id=10085, shape=(), dtype=float64, numpy=0.8589973300695419>,\n",
       " <tf.Tensor: id=10749, shape=(), dtype=float64, numpy=0.8505550622940063>,\n",
       " <tf.Tensor: id=11413, shape=(), dtype=float64, numpy=0.8397134244441986>,\n",
       " <tf.Tensor: id=12077, shape=(), dtype=float64, numpy=0.8291701525449753>,\n",
       " <tf.Tensor: id=12741, shape=(), dtype=float64, numpy=0.8169439435005188>,\n",
       " <tf.Tensor: id=13405, shape=(), dtype=float64, numpy=0.8036465644836426>,\n",
       " <tf.Tensor: id=14069, shape=(), dtype=float64, numpy=0.7945061177015305>,\n",
       " <tf.Tensor: id=14733, shape=(), dtype=float64, numpy=0.7825231850147247>,\n",
       " <tf.Tensor: id=15397, shape=(), dtype=float64, numpy=0.769335463643074>,\n",
       " <tf.Tensor: id=16061, shape=(), dtype=float64, numpy=0.7614933848381042>,\n",
       " <tf.Tensor: id=16725, shape=(), dtype=float64, numpy=0.7508219331502914>,\n",
       " <tf.Tensor: id=17389, shape=(), dtype=float64, numpy=0.7361132204532623>,\n",
       " <tf.Tensor: id=18053, shape=(), dtype=float64, numpy=0.7277847528457642>,\n",
       " <tf.Tensor: id=18717, shape=(), dtype=float64, numpy=0.7171579897403717>,\n",
       " <tf.Tensor: id=19381, shape=(), dtype=float64, numpy=0.7068504244089127>,\n",
       " <tf.Tensor: id=20045, shape=(), dtype=float64, numpy=0.6961044818162918>,\n",
       " <tf.Tensor: id=20709, shape=(), dtype=float64, numpy=0.6834904551506042>,\n",
       " <tf.Tensor: id=21373, shape=(), dtype=float64, numpy=0.6747073382139206>,\n",
       " <tf.Tensor: id=22037, shape=(), dtype=float64, numpy=0.6581003963947296>,\n",
       " <tf.Tensor: id=22701, shape=(), dtype=float64, numpy=0.6533259600400925>,\n",
       " <tf.Tensor: id=23365, shape=(), dtype=float64, numpy=0.6408555060625076>,\n",
       " <tf.Tensor: id=24029, shape=(), dtype=float64, numpy=0.6324339807033539>,\n",
       " <tf.Tensor: id=24693, shape=(), dtype=float64, numpy=0.6218910664319992>,\n",
       " <tf.Tensor: id=25357, shape=(), dtype=float64, numpy=0.6140414327383041>,\n",
       " <tf.Tensor: id=26021, shape=(), dtype=float64, numpy=0.6023671180009842>,\n",
       " <tf.Tensor: id=26685, shape=(), dtype=float64, numpy=0.5956501364707947>,\n",
       " <tf.Tensor: id=27349, shape=(), dtype=float64, numpy=0.5895875096321106>,\n",
       " <tf.Tensor: id=28013, shape=(), dtype=float64, numpy=0.5754684209823608>,\n",
       " <tf.Tensor: id=28677, shape=(), dtype=float64, numpy=0.5684899687767029>,\n",
       " <tf.Tensor: id=29341, shape=(), dtype=float64, numpy=0.564458966255188>,\n",
       " <tf.Tensor: id=30005, shape=(), dtype=float64, numpy=0.5557767450809479>,\n",
       " <tf.Tensor: id=30669, shape=(), dtype=float64, numpy=0.5508208572864532>,\n",
       " <tf.Tensor: id=31333, shape=(), dtype=float64, numpy=0.5378032773733139>,\n",
       " <tf.Tensor: id=31997, shape=(), dtype=float64, numpy=0.5301778167486191>,\n",
       " <tf.Tensor: id=32661, shape=(), dtype=float64, numpy=0.5241363197565079>,\n",
       " <tf.Tensor: id=33325, shape=(), dtype=float64, numpy=0.5188110321760178>,\n",
       " <tf.Tensor: id=33989, shape=(), dtype=float64, numpy=0.5142510309815407>,\n",
       " <tf.Tensor: id=34661, shape=(), dtype=float64, numpy=0.5092699006199837>,\n",
       " <tf.Tensor: id=35325, shape=(), dtype=float64, numpy=0.5021981373429298>,\n",
       " <tf.Tensor: id=35989, shape=(), dtype=float64, numpy=0.4918399378657341>,\n",
       " <tf.Tensor: id=36653, shape=(), dtype=float64, numpy=0.4900912493467331>,\n",
       " <tf.Tensor: id=37317, shape=(), dtype=float64, numpy=0.4837903827428818>,\n",
       " <tf.Tensor: id=37981, shape=(), dtype=float64, numpy=0.4769759327173233>,\n",
       " <tf.Tensor: id=38645, shape=(), dtype=float64, numpy=0.4744023382663727>,\n",
       " <tf.Tensor: id=39309, shape=(), dtype=float64, numpy=0.4679720029234886>,\n",
       " <tf.Tensor: id=39973, shape=(), dtype=float64, numpy=0.4657210484147072>,\n",
       " <tf.Tensor: id=40637, shape=(), dtype=float64, numpy=0.4528324604034424>,\n",
       " <tf.Tensor: id=41301, shape=(), dtype=float64, numpy=0.4549824446439743>,\n",
       " <tf.Tensor: id=41965, shape=(), dtype=float64, numpy=0.44958438724279404>,\n",
       " <tf.Tensor: id=42629, shape=(), dtype=float64, numpy=0.4434180185198784>,\n",
       " <tf.Tensor: id=43293, shape=(), dtype=float64, numpy=0.43580251187086105>,\n",
       " <tf.Tensor: id=43957, shape=(), dtype=float64, numpy=0.43234342336654663>,\n",
       " <tf.Tensor: id=44621, shape=(), dtype=float64, numpy=0.4319877102971077>,\n",
       " <tf.Tensor: id=45285, shape=(), dtype=float64, numpy=0.4309151917695999>,\n",
       " <tf.Tensor: id=45949, shape=(), dtype=float64, numpy=0.42656344175338745>,\n",
       " <tf.Tensor: id=46613, shape=(), dtype=float64, numpy=0.42207080125808716>,\n",
       " <tf.Tensor: id=47277, shape=(), dtype=float64, numpy=0.41746802628040314>,\n",
       " <tf.Tensor: id=47941, shape=(), dtype=float64, numpy=0.41531553119421005>,\n",
       " <tf.Tensor: id=48605, shape=(), dtype=float64, numpy=0.4090219959616661>,\n",
       " <tf.Tensor: id=49269, shape=(), dtype=float64, numpy=0.41266096383333206>,\n",
       " <tf.Tensor: id=49933, shape=(), dtype=float64, numpy=0.40438904613256454>,\n",
       " <tf.Tensor: id=50597, shape=(), dtype=float64, numpy=0.3933507278561592>,\n",
       " <tf.Tensor: id=51261, shape=(), dtype=float64, numpy=0.40153858065605164>,\n",
       " <tf.Tensor: id=51925, shape=(), dtype=float64, numpy=0.39959607273340225>,\n",
       " <tf.Tensor: id=52589, shape=(), dtype=float64, numpy=0.3902265280485153>,\n",
       " <tf.Tensor: id=53253, shape=(), dtype=float64, numpy=0.3909185528755188>,\n",
       " <tf.Tensor: id=53917, shape=(), dtype=float64, numpy=0.38291047513484955>,\n",
       " <tf.Tensor: id=54581, shape=(), dtype=float64, numpy=0.3870422840118408>,\n",
       " <tf.Tensor: id=55245, shape=(), dtype=float64, numpy=0.37683486193418503>,\n",
       " <tf.Tensor: id=55909, shape=(), dtype=float64, numpy=0.37921595573425293>,\n",
       " <tf.Tensor: id=56573, shape=(), dtype=float64, numpy=0.37185822427272797>,\n",
       " <tf.Tensor: id=57237, shape=(), dtype=float64, numpy=0.37365230917930603>,\n",
       " <tf.Tensor: id=57901, shape=(), dtype=float64, numpy=0.36582495272159576>,\n",
       " <tf.Tensor: id=58565, shape=(), dtype=float64, numpy=0.3719761371612549>,\n",
       " <tf.Tensor: id=59229, shape=(), dtype=float64, numpy=0.3586468994617462>,\n",
       " <tf.Tensor: id=59893, shape=(), dtype=float64, numpy=0.36580707877874374>,\n",
       " <tf.Tensor: id=60557, shape=(), dtype=float64, numpy=0.36238255351781845>,\n",
       " <tf.Tensor: id=61221, shape=(), dtype=float64, numpy=0.35750626772642136>,\n",
       " <tf.Tensor: id=61885, shape=(), dtype=float64, numpy=0.35630200803279877>,\n",
       " <tf.Tensor: id=62549, shape=(), dtype=float64, numpy=0.35478760302066803>,\n",
       " <tf.Tensor: id=63213, shape=(), dtype=float64, numpy=0.3582064285874367>,\n",
       " <tf.Tensor: id=63877, shape=(), dtype=float64, numpy=0.3468237891793251>,\n",
       " <tf.Tensor: id=64541, shape=(), dtype=float64, numpy=0.34669871628284454>,\n",
       " <tf.Tensor: id=65205, shape=(), dtype=float64, numpy=0.3479504883289337>,\n",
       " <tf.Tensor: id=65869, shape=(), dtype=float64, numpy=0.3353676572442055>,\n",
       " <tf.Tensor: id=66533, shape=(), dtype=float64, numpy=0.3332328796386719>,\n",
       " <tf.Tensor: id=67197, shape=(), dtype=float64, numpy=0.339578777551651>,\n",
       " <tf.Tensor: id=67869, shape=(), dtype=float64, numpy=0.3321814239025116>,\n",
       " <tf.Tensor: id=68533, shape=(), dtype=float64, numpy=0.3397831916809082>,\n",
       " <tf.Tensor: id=69197, shape=(), dtype=float64, numpy=0.33061596006155014>,\n",
       " <tf.Tensor: id=69861, shape=(), dtype=float64, numpy=0.329458586871624>,\n",
       " <tf.Tensor: id=70525, shape=(), dtype=float64, numpy=0.33326256275177>,\n",
       " <tf.Tensor: id=71189, shape=(), dtype=float64, numpy=0.3279765918850899>,\n",
       " <tf.Tensor: id=71853, shape=(), dtype=float64, numpy=0.31861553713679314>,\n",
       " <tf.Tensor: id=72517, shape=(), dtype=float64, numpy=0.3224172219634056>,\n",
       " <tf.Tensor: id=73181, shape=(), dtype=float64, numpy=0.3180246949195862>,\n",
       " <tf.Tensor: id=73845, shape=(), dtype=float64, numpy=0.31017863377928734>,\n",
       " <tf.Tensor: id=74509, shape=(), dtype=float64, numpy=0.31220582127571106>,\n",
       " <tf.Tensor: id=75173, shape=(), dtype=float64, numpy=0.3098496347665787>,\n",
       " <tf.Tensor: id=75837, shape=(), dtype=float64, numpy=0.30476655811071396>,\n",
       " <tf.Tensor: id=76501, shape=(), dtype=float64, numpy=0.3082163594663143>,\n",
       " <tf.Tensor: id=77165, shape=(), dtype=float64, numpy=0.30672551691532135>,\n",
       " <tf.Tensor: id=77829, shape=(), dtype=float64, numpy=0.3064013086259365>,\n",
       " <tf.Tensor: id=78493, shape=(), dtype=float64, numpy=0.3007676675915718>,\n",
       " <tf.Tensor: id=79157, shape=(), dtype=float64, numpy=0.2900349609553814>,\n",
       " <tf.Tensor: id=79821, shape=(), dtype=float64, numpy=0.28748271614313126>,\n",
       " <tf.Tensor: id=80485, shape=(), dtype=float64, numpy=0.29286421090364456>,\n",
       " <tf.Tensor: id=81149, shape=(), dtype=float64, numpy=0.2754741981625557>,\n",
       " <tf.Tensor: id=81813, shape=(), dtype=float64, numpy=0.29353106766939163>,\n",
       " <tf.Tensor: id=82477, shape=(), dtype=float64, numpy=0.28773247823119164>,\n",
       " <tf.Tensor: id=83141, shape=(), dtype=float64, numpy=0.28416790813207626>,\n",
       " <tf.Tensor: id=83805, shape=(), dtype=float64, numpy=0.2869541719555855>,\n",
       " <tf.Tensor: id=84469, shape=(), dtype=float64, numpy=0.2897363267838955>,\n",
       " <tf.Tensor: id=85133, shape=(), dtype=float64, numpy=0.27984754368662834>,\n",
       " <tf.Tensor: id=85797, shape=(), dtype=float64, numpy=0.2790500968694687>,\n",
       " <tf.Tensor: id=86461, shape=(), dtype=float64, numpy=0.2770356871187687>,\n",
       " <tf.Tensor: id=87125, shape=(), dtype=float64, numpy=0.2692171707749367>,\n",
       " <tf.Tensor: id=87789, shape=(), dtype=float64, numpy=0.26717519015073776>,\n",
       " <tf.Tensor: id=88453, shape=(), dtype=float64, numpy=0.274927269667387>,\n",
       " <tf.Tensor: id=89117, shape=(), dtype=float64, numpy=0.26918698102235794>,\n",
       " <tf.Tensor: id=89781, shape=(), dtype=float64, numpy=0.2731889635324478>,\n",
       " <tf.Tensor: id=90445, shape=(), dtype=float64, numpy=0.2692822739481926>,\n",
       " <tf.Tensor: id=91109, shape=(), dtype=float64, numpy=0.26722896844148636>,\n",
       " <tf.Tensor: id=91773, shape=(), dtype=float64, numpy=0.2663726136088371>,\n",
       " <tf.Tensor: id=92437, shape=(), dtype=float64, numpy=0.25768404081463814>,\n",
       " <tf.Tensor: id=93101, shape=(), dtype=float64, numpy=0.25075525790452957>,\n",
       " <tf.Tensor: id=93765, shape=(), dtype=float64, numpy=0.2588023506104946>,\n",
       " <tf.Tensor: id=94429, shape=(), dtype=float64, numpy=0.2660485990345478>,\n",
       " <tf.Tensor: id=95093, shape=(), dtype=float64, numpy=0.2603495605289936>,\n",
       " <tf.Tensor: id=95757, shape=(), dtype=float64, numpy=0.2581898868083954>,\n",
       " <tf.Tensor: id=96421, shape=(), dtype=float64, numpy=0.24426467716693878>,\n",
       " <tf.Tensor: id=97085, shape=(), dtype=float64, numpy=0.25097355619072914>,\n",
       " <tf.Tensor: id=97749, shape=(), dtype=float64, numpy=0.24848535284399986>,\n",
       " <tf.Tensor: id=98413, shape=(), dtype=float64, numpy=0.24740464612841606>,\n",
       " <tf.Tensor: id=99077, shape=(), dtype=float64, numpy=0.24866408854722977>,\n",
       " <tf.Tensor: id=99741, shape=(), dtype=float64, numpy=0.24520228803157806>,\n",
       " <tf.Tensor: id=100405, shape=(), dtype=float64, numpy=0.24876360595226288>,\n",
       " <tf.Tensor: id=101077, shape=(), dtype=float64, numpy=0.23899230733513832>,\n",
       " <tf.Tensor: id=101741, shape=(), dtype=float64, numpy=0.23680447787046432>,\n",
       " <tf.Tensor: id=102405, shape=(), dtype=float64, numpy=0.23530031368136406>,\n",
       " <tf.Tensor: id=103069, shape=(), dtype=float64, numpy=0.23790763318538666>,\n",
       " <tf.Tensor: id=103733, shape=(), dtype=float64, numpy=0.23759906738996506>,\n",
       " <tf.Tensor: id=104397, shape=(), dtype=float64, numpy=0.2357296347618103>,\n",
       " <tf.Tensor: id=105061, shape=(), dtype=float64, numpy=0.22530536353588104>,\n",
       " <tf.Tensor: id=105725, shape=(), dtype=float64, numpy=0.22964045405387878>,\n",
       " <tf.Tensor: id=106389, shape=(), dtype=float64, numpy=0.23291027545928955>,\n",
       " <tf.Tensor: id=107053, shape=(), dtype=float64, numpy=0.22535590082406998>,\n",
       " <tf.Tensor: id=107717, shape=(), dtype=float64, numpy=0.2342020757496357>,\n",
       " <tf.Tensor: id=108381, shape=(), dtype=float64, numpy=0.23016463965177536>,\n",
       " <tf.Tensor: id=109045, shape=(), dtype=float64, numpy=0.21897738426923752>,\n",
       " <tf.Tensor: id=109709, shape=(), dtype=float64, numpy=0.2270323857665062>,\n",
       " <tf.Tensor: id=110373, shape=(), dtype=float64, numpy=0.21825521439313889>,\n",
       " <tf.Tensor: id=111037, shape=(), dtype=float64, numpy=0.21361609920859337>,\n",
       " <tf.Tensor: id=111701, shape=(), dtype=float64, numpy=0.2208489030599594>,\n",
       " <tf.Tensor: id=112365, shape=(), dtype=float64, numpy=0.2164560742676258>,\n",
       " <tf.Tensor: id=113029, shape=(), dtype=float64, numpy=0.21243426576256752>,\n",
       " <tf.Tensor: id=113693, shape=(), dtype=float64, numpy=0.2080446518957615>,\n",
       " <tf.Tensor: id=114357, shape=(), dtype=float64, numpy=0.20995194092392921>,\n",
       " <tf.Tensor: id=115021, shape=(), dtype=float64, numpy=0.20853160321712494>,\n",
       " <tf.Tensor: id=115685, shape=(), dtype=float64, numpy=0.20453917235136032>,\n",
       " <tf.Tensor: id=116349, shape=(), dtype=float64, numpy=0.20890920981764793>,\n",
       " <tf.Tensor: id=117013, shape=(), dtype=float64, numpy=0.2070726975798607>,\n",
       " <tf.Tensor: id=117677, shape=(), dtype=float64, numpy=0.19837011769413948>,\n",
       " <tf.Tensor: id=118341, shape=(), dtype=float64, numpy=0.2066097855567932>,\n",
       " <tf.Tensor: id=119005, shape=(), dtype=float64, numpy=0.1987321898341179>,\n",
       " <tf.Tensor: id=119669, shape=(), dtype=float64, numpy=0.20340273529291153>,\n",
       " <tf.Tensor: id=120333, shape=(), dtype=float64, numpy=0.1942915990948677>,\n",
       " <tf.Tensor: id=120997, shape=(), dtype=float64, numpy=0.1975204050540924>,\n",
       " <tf.Tensor: id=121661, shape=(), dtype=float64, numpy=0.19443341344594955>,\n",
       " <tf.Tensor: id=122325, shape=(), dtype=float64, numpy=0.2018960826098919>,\n",
       " <tf.Tensor: id=122989, shape=(), dtype=float64, numpy=0.19575737789273262>,\n",
       " <tf.Tensor: id=123653, shape=(), dtype=float64, numpy=0.19940679147839546>,\n",
       " <tf.Tensor: id=124317, shape=(), dtype=float64, numpy=0.19622525945305824>,\n",
       " <tf.Tensor: id=124981, shape=(), dtype=float64, numpy=0.19571133330464363>,\n",
       " <tf.Tensor: id=125645, shape=(), dtype=float64, numpy=0.19461185112595558>,\n",
       " <tf.Tensor: id=126309, shape=(), dtype=float64, numpy=0.19303926825523376>,\n",
       " <tf.Tensor: id=126973, shape=(), dtype=float64, numpy=0.19164767861366272>,\n",
       " <tf.Tensor: id=127637, shape=(), dtype=float64, numpy=0.19277073815464973>,\n",
       " <tf.Tensor: id=128301, shape=(), dtype=float64, numpy=0.18138368427753448>,\n",
       " <tf.Tensor: id=128965, shape=(), dtype=float64, numpy=0.18540120869874954>,\n",
       " <tf.Tensor: id=129629, shape=(), dtype=float64, numpy=0.1883784495294094>,\n",
       " <tf.Tensor: id=130293, shape=(), dtype=float64, numpy=0.18461667001247406>,\n",
       " <tf.Tensor: id=130957, shape=(), dtype=float64, numpy=0.17763013392686844>,\n",
       " <tf.Tensor: id=131621, shape=(), dtype=float64, numpy=0.18921354785561562>,\n",
       " <tf.Tensor: id=132285, shape=(), dtype=float64, numpy=0.18274040520191193>,\n",
       " <tf.Tensor: id=132949, shape=(), dtype=float64, numpy=0.17840365506708622>,\n",
       " <tf.Tensor: id=133613, shape=(), dtype=float64, numpy=0.17577392980456352>]"
      ]
     },
     "execution_count": 18,
     "metadata": {},
     "output_type": "execute_result"
    }
   ],
   "source": [
    "train_loss_results"
   ]
  },
  {
   "cell_type": "code",
   "execution_count": null,
   "metadata": {
    "collapsed": true
   },
   "outputs": [],
   "source": []
  }
 ],
 "metadata": {
  "kernelspec": {
   "display_name": "Python 3",
   "language": "python",
   "name": "python3"
  },
  "language_info": {
   "codemirror_mode": {
    "name": "ipython",
    "version": 3
   },
   "file_extension": ".py",
   "mimetype": "text/x-python",
   "name": "python",
   "nbconvert_exporter": "python",
   "pygments_lexer": "ipython3",
   "version": "3.4.3"
  }
 },
 "nbformat": 4,
 "nbformat_minor": 2
}
